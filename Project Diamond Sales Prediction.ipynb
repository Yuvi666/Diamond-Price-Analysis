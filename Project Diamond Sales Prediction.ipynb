{
 "cells": [
  {
   "cell_type": "markdown",
   "id": "33e9971b",
   "metadata": {},
   "source": [
    "# Case Study - Diamond Price Prediction"
   ]
  },
  {
   "cell_type": "markdown",
   "id": "a4edc101",
   "metadata": {},
   "source": [
    "\n",
    "Business Understanding:\n",
    "\n",
    "Diamond is one of the strongest and the most valuable substances produced naturally as a form of carbon. However, unlike gold and silver, determining the price of a diamond is very complex because many features are to be considered for determining its price.\n",
    "\n",
    "The value of diamonds depends upon their structure, cut, inclusions (impurity), carats, and many other features. The uses of diamonds are many, such as in industries, as they are effective in cutting, polishing, and drilling. Since diamonds are extremely valuable, they have been traded across different countries for centuries now and this trade only increases with time. They are graded and certified based on the \"four Cs\", which are color, cut, clarity, and carat. These are the only metrics that are being used to the quality of diamonds and sets the price of the diamond. This metric allows uniform understanding for people across the world to buy diamonds, which allows ease of trade and value for what is purchased."
   ]
  },
  {
   "cell_type": "markdown",
   "id": "b2c1ce6f",
   "metadata": {},
   "source": [
    "# Problem Statement\n",
    "Build a system which can take features of diamond like carat, cut, color, clarity, x, y, z, etc.. and predicts the price of diamond."
   ]
  },
  {
   "cell_type": "code",
   "execution_count": 1,
   "id": "a2265b67",
   "metadata": {},
   "outputs": [],
   "source": [
    "import pandas as pd\n",
    "import numpy as np\n",
    "import matplotlib.pyplot as plt\n",
    "import seaborn as sns\n",
    "sns.set_theme()"
   ]
  },
  {
   "cell_type": "code",
   "execution_count": 2,
   "id": "2414392f",
   "metadata": {},
   "outputs": [
    {
     "data": {
      "text/html": [
       "<div>\n",
       "<style scoped>\n",
       "    .dataframe tbody tr th:only-of-type {\n",
       "        vertical-align: middle;\n",
       "    }\n",
       "\n",
       "    .dataframe tbody tr th {\n",
       "        vertical-align: top;\n",
       "    }\n",
       "\n",
       "    .dataframe thead th {\n",
       "        text-align: right;\n",
       "    }\n",
       "</style>\n",
       "<table border=\"1\" class=\"dataframe\">\n",
       "  <thead>\n",
       "    <tr style=\"text-align: right;\">\n",
       "      <th></th>\n",
       "      <th>carat</th>\n",
       "      <th>cut</th>\n",
       "      <th>color</th>\n",
       "      <th>clarity</th>\n",
       "      <th>depth</th>\n",
       "      <th>table</th>\n",
       "      <th>price</th>\n",
       "      <th>x</th>\n",
       "      <th>y</th>\n",
       "      <th>z</th>\n",
       "    </tr>\n",
       "  </thead>\n",
       "  <tbody>\n",
       "    <tr>\n",
       "      <th>0</th>\n",
       "      <td>0.23</td>\n",
       "      <td>Ideal</td>\n",
       "      <td>E</td>\n",
       "      <td>SI2</td>\n",
       "      <td>61.5</td>\n",
       "      <td>55.0</td>\n",
       "      <td>326</td>\n",
       "      <td>3.95</td>\n",
       "      <td>3.98</td>\n",
       "      <td>2.43</td>\n",
       "    </tr>\n",
       "    <tr>\n",
       "      <th>1</th>\n",
       "      <td>0.21</td>\n",
       "      <td>Premium</td>\n",
       "      <td>E</td>\n",
       "      <td>SI1</td>\n",
       "      <td>59.8</td>\n",
       "      <td>61.0</td>\n",
       "      <td>326</td>\n",
       "      <td>3.89</td>\n",
       "      <td>3.84</td>\n",
       "      <td>2.31</td>\n",
       "    </tr>\n",
       "    <tr>\n",
       "      <th>2</th>\n",
       "      <td>0.23</td>\n",
       "      <td>Good</td>\n",
       "      <td>E</td>\n",
       "      <td>VS1</td>\n",
       "      <td>56.9</td>\n",
       "      <td>65.0</td>\n",
       "      <td>327</td>\n",
       "      <td>4.05</td>\n",
       "      <td>4.07</td>\n",
       "      <td>2.31</td>\n",
       "    </tr>\n",
       "    <tr>\n",
       "      <th>3</th>\n",
       "      <td>0.29</td>\n",
       "      <td>Premium</td>\n",
       "      <td>I</td>\n",
       "      <td>VS2</td>\n",
       "      <td>62.4</td>\n",
       "      <td>58.0</td>\n",
       "      <td>334</td>\n",
       "      <td>4.20</td>\n",
       "      <td>4.23</td>\n",
       "      <td>2.63</td>\n",
       "    </tr>\n",
       "    <tr>\n",
       "      <th>4</th>\n",
       "      <td>0.31</td>\n",
       "      <td>Good</td>\n",
       "      <td>J</td>\n",
       "      <td>SI2</td>\n",
       "      <td>63.3</td>\n",
       "      <td>58.0</td>\n",
       "      <td>335</td>\n",
       "      <td>4.34</td>\n",
       "      <td>4.35</td>\n",
       "      <td>2.75</td>\n",
       "    </tr>\n",
       "  </tbody>\n",
       "</table>\n",
       "</div>"
      ],
      "text/plain": [
       "   carat      cut color clarity  depth  table  price     x     y     z\n",
       "0   0.23    Ideal     E     SI2   61.5   55.0    326  3.95  3.98  2.43\n",
       "1   0.21  Premium     E     SI1   59.8   61.0    326  3.89  3.84  2.31\n",
       "2   0.23     Good     E     VS1   56.9   65.0    327  4.05  4.07  2.31\n",
       "3   0.29  Premium     I     VS2   62.4   58.0    334  4.20  4.23  2.63\n",
       "4   0.31     Good     J     SI2   63.3   58.0    335  4.34  4.35  2.75"
      ]
     },
     "execution_count": 2,
     "metadata": {},
     "output_type": "execute_result"
    }
   ],
   "source": [
    "df=pd.read_csv('diamonds.csv')\n",
    "df.head()"
   ]
  },
  {
   "cell_type": "code",
   "execution_count": 3,
   "id": "cf2c4ae2",
   "metadata": {},
   "outputs": [
    {
     "data": {
      "text/html": [
       "<div>\n",
       "<style scoped>\n",
       "    .dataframe tbody tr th:only-of-type {\n",
       "        vertical-align: middle;\n",
       "    }\n",
       "\n",
       "    .dataframe tbody tr th {\n",
       "        vertical-align: top;\n",
       "    }\n",
       "\n",
       "    .dataframe thead th {\n",
       "        text-align: right;\n",
       "    }\n",
       "</style>\n",
       "<table border=\"1\" class=\"dataframe\">\n",
       "  <thead>\n",
       "    <tr style=\"text-align: right;\">\n",
       "      <th></th>\n",
       "      <th>carat</th>\n",
       "      <th>cut</th>\n",
       "      <th>color</th>\n",
       "      <th>clarity</th>\n",
       "      <th>depth</th>\n",
       "      <th>table</th>\n",
       "      <th>price</th>\n",
       "      <th>x</th>\n",
       "      <th>y</th>\n",
       "      <th>z</th>\n",
       "    </tr>\n",
       "  </thead>\n",
       "  <tbody>\n",
       "    <tr>\n",
       "      <th>53935</th>\n",
       "      <td>0.72</td>\n",
       "      <td>Ideal</td>\n",
       "      <td>D</td>\n",
       "      <td>SI1</td>\n",
       "      <td>60.8</td>\n",
       "      <td>57.0</td>\n",
       "      <td>2757</td>\n",
       "      <td>5.75</td>\n",
       "      <td>5.76</td>\n",
       "      <td>3.50</td>\n",
       "    </tr>\n",
       "    <tr>\n",
       "      <th>53936</th>\n",
       "      <td>0.72</td>\n",
       "      <td>Good</td>\n",
       "      <td>D</td>\n",
       "      <td>SI1</td>\n",
       "      <td>63.1</td>\n",
       "      <td>55.0</td>\n",
       "      <td>2757</td>\n",
       "      <td>5.69</td>\n",
       "      <td>5.75</td>\n",
       "      <td>3.61</td>\n",
       "    </tr>\n",
       "    <tr>\n",
       "      <th>53937</th>\n",
       "      <td>0.70</td>\n",
       "      <td>Very Good</td>\n",
       "      <td>D</td>\n",
       "      <td>SI1</td>\n",
       "      <td>62.8</td>\n",
       "      <td>60.0</td>\n",
       "      <td>2757</td>\n",
       "      <td>5.66</td>\n",
       "      <td>5.68</td>\n",
       "      <td>3.56</td>\n",
       "    </tr>\n",
       "    <tr>\n",
       "      <th>53938</th>\n",
       "      <td>0.86</td>\n",
       "      <td>Premium</td>\n",
       "      <td>H</td>\n",
       "      <td>SI2</td>\n",
       "      <td>61.0</td>\n",
       "      <td>58.0</td>\n",
       "      <td>2757</td>\n",
       "      <td>6.15</td>\n",
       "      <td>6.12</td>\n",
       "      <td>3.74</td>\n",
       "    </tr>\n",
       "    <tr>\n",
       "      <th>53939</th>\n",
       "      <td>0.75</td>\n",
       "      <td>Ideal</td>\n",
       "      <td>D</td>\n",
       "      <td>SI2</td>\n",
       "      <td>62.2</td>\n",
       "      <td>55.0</td>\n",
       "      <td>2757</td>\n",
       "      <td>5.83</td>\n",
       "      <td>5.87</td>\n",
       "      <td>3.64</td>\n",
       "    </tr>\n",
       "  </tbody>\n",
       "</table>\n",
       "</div>"
      ],
      "text/plain": [
       "       carat        cut color clarity  depth  table  price     x     y     z\n",
       "53935   0.72      Ideal     D     SI1   60.8   57.0   2757  5.75  5.76  3.50\n",
       "53936   0.72       Good     D     SI1   63.1   55.0   2757  5.69  5.75  3.61\n",
       "53937   0.70  Very Good     D     SI1   62.8   60.0   2757  5.66  5.68  3.56\n",
       "53938   0.86    Premium     H     SI2   61.0   58.0   2757  6.15  6.12  3.74\n",
       "53939   0.75      Ideal     D     SI2   62.2   55.0   2757  5.83  5.87  3.64"
      ]
     },
     "execution_count": 3,
     "metadata": {},
     "output_type": "execute_result"
    }
   ],
   "source": [
    "df.tail()"
   ]
  },
  {
   "cell_type": "markdown",
   "id": "6d900afa",
   "metadata": {},
   "source": [
    "# Data Description"
   ]
  },
  {
   "cell_type": "raw",
   "id": "f37dbfaf",
   "metadata": {},
   "source": [
    "Feature\tDescription\n",
    "\n",
    "price- price in US dollars ($ 326 - $ 18,823)\n",
    "carat- weight of the diamond (0.2 - 5.01)\n",
    "cut- quality of the cut (Fair, Good, Very Good, Premium, Ideal)\n",
    "color- diamond colour, (J (worst) to D (best))\n",
    "clarity- a measurement of how clear the diamond is (I1 (worst), SI2, SI1, VS2, VS1, VVS2, VVS1, IF (best))\n",
    "x-\tlength in mm (0 - 10.74)\n",
    "y-\twidth in mm (0 - 58.9)\n",
    "z-\tdepth in mm (0 - 31.8)\n",
    "depth-\ttotal depth percentage = z / mean(x, y) = 2 * z / (x + y) (43 - 79)\n",
    "table-\twidth of top of diamond relative to widest point (43 - 95)"
   ]
  },
  {
   "cell_type": "markdown",
   "id": "8659583f",
   "metadata": {},
   "source": [
    "# Exploratory Data Analysis"
   ]
  },
  {
   "cell_type": "code",
   "execution_count": 4,
   "id": "1c666267",
   "metadata": {},
   "outputs": [
    {
     "data": {
      "text/plain": [
       "(53940, 10)"
      ]
     },
     "execution_count": 4,
     "metadata": {},
     "output_type": "execute_result"
    }
   ],
   "source": [
    "df.shape"
   ]
  },
  {
   "cell_type": "code",
   "execution_count": 5,
   "id": "0b3bf186",
   "metadata": {},
   "outputs": [
    {
     "data": {
      "text/plain": [
       "Index(['carat', 'cut', 'color', 'clarity', 'depth', 'table', 'price', 'x', 'y',\n",
       "       'z'],\n",
       "      dtype='object')"
      ]
     },
     "execution_count": 5,
     "metadata": {},
     "output_type": "execute_result"
    }
   ],
   "source": [
    "df.columns"
   ]
  },
  {
   "cell_type": "code",
   "execution_count": 6,
   "id": "f5679132",
   "metadata": {},
   "outputs": [
    {
     "name": "stdout",
     "output_type": "stream",
     "text": [
      "<class 'pandas.core.frame.DataFrame'>\n",
      "RangeIndex: 53940 entries, 0 to 53939\n",
      "Data columns (total 10 columns):\n",
      " #   Column   Non-Null Count  Dtype  \n",
      "---  ------   --------------  -----  \n",
      " 0   carat    53940 non-null  float64\n",
      " 1   cut      53940 non-null  object \n",
      " 2   color    53940 non-null  object \n",
      " 3   clarity  53940 non-null  object \n",
      " 4   depth    53940 non-null  float64\n",
      " 5   table    53940 non-null  float64\n",
      " 6   price    53940 non-null  int64  \n",
      " 7   x        53940 non-null  float64\n",
      " 8   y        53940 non-null  float64\n",
      " 9   z        53940 non-null  float64\n",
      "dtypes: float64(6), int64(1), object(3)\n",
      "memory usage: 4.1+ MB\n"
     ]
    }
   ],
   "source": [
    "df.info()"
   ]
  },
  {
   "cell_type": "code",
   "execution_count": 7,
   "id": "8b657bf1",
   "metadata": {},
   "outputs": [
    {
     "data": {
      "text/plain": [
       "carat      0\n",
       "cut        0\n",
       "color      0\n",
       "clarity    0\n",
       "depth      0\n",
       "table      0\n",
       "price      0\n",
       "x          0\n",
       "y          0\n",
       "z          0\n",
       "dtype: int64"
      ]
     },
     "execution_count": 7,
     "metadata": {},
     "output_type": "execute_result"
    }
   ],
   "source": [
    "df.isna().sum()"
   ]
  },
  {
   "cell_type": "code",
   "execution_count": 8,
   "id": "c4d381bd",
   "metadata": {},
   "outputs": [
    {
     "data": {
      "text/html": [
       "<div>\n",
       "<style scoped>\n",
       "    .dataframe tbody tr th:only-of-type {\n",
       "        vertical-align: middle;\n",
       "    }\n",
       "\n",
       "    .dataframe tbody tr th {\n",
       "        vertical-align: top;\n",
       "    }\n",
       "\n",
       "    .dataframe thead th {\n",
       "        text-align: right;\n",
       "    }\n",
       "</style>\n",
       "<table border=\"1\" class=\"dataframe\">\n",
       "  <thead>\n",
       "    <tr style=\"text-align: right;\">\n",
       "      <th></th>\n",
       "      <th>carat</th>\n",
       "      <th>depth</th>\n",
       "      <th>table</th>\n",
       "      <th>price</th>\n",
       "      <th>x</th>\n",
       "      <th>y</th>\n",
       "      <th>z</th>\n",
       "    </tr>\n",
       "  </thead>\n",
       "  <tbody>\n",
       "    <tr>\n",
       "      <th>count</th>\n",
       "      <td>53940.000000</td>\n",
       "      <td>53940.000000</td>\n",
       "      <td>53940.000000</td>\n",
       "      <td>53940.000000</td>\n",
       "      <td>53940.000000</td>\n",
       "      <td>53940.000000</td>\n",
       "      <td>53940.000000</td>\n",
       "    </tr>\n",
       "    <tr>\n",
       "      <th>mean</th>\n",
       "      <td>0.797940</td>\n",
       "      <td>61.749405</td>\n",
       "      <td>57.457184</td>\n",
       "      <td>3932.799722</td>\n",
       "      <td>5.731157</td>\n",
       "      <td>5.734526</td>\n",
       "      <td>3.538734</td>\n",
       "    </tr>\n",
       "    <tr>\n",
       "      <th>std</th>\n",
       "      <td>0.474011</td>\n",
       "      <td>1.432621</td>\n",
       "      <td>2.234491</td>\n",
       "      <td>3989.439738</td>\n",
       "      <td>1.121761</td>\n",
       "      <td>1.142135</td>\n",
       "      <td>0.705699</td>\n",
       "    </tr>\n",
       "    <tr>\n",
       "      <th>min</th>\n",
       "      <td>0.200000</td>\n",
       "      <td>43.000000</td>\n",
       "      <td>43.000000</td>\n",
       "      <td>326.000000</td>\n",
       "      <td>0.000000</td>\n",
       "      <td>0.000000</td>\n",
       "      <td>0.000000</td>\n",
       "    </tr>\n",
       "    <tr>\n",
       "      <th>25%</th>\n",
       "      <td>0.400000</td>\n",
       "      <td>61.000000</td>\n",
       "      <td>56.000000</td>\n",
       "      <td>950.000000</td>\n",
       "      <td>4.710000</td>\n",
       "      <td>4.720000</td>\n",
       "      <td>2.910000</td>\n",
       "    </tr>\n",
       "    <tr>\n",
       "      <th>50%</th>\n",
       "      <td>0.700000</td>\n",
       "      <td>61.800000</td>\n",
       "      <td>57.000000</td>\n",
       "      <td>2401.000000</td>\n",
       "      <td>5.700000</td>\n",
       "      <td>5.710000</td>\n",
       "      <td>3.530000</td>\n",
       "    </tr>\n",
       "    <tr>\n",
       "      <th>75%</th>\n",
       "      <td>1.040000</td>\n",
       "      <td>62.500000</td>\n",
       "      <td>59.000000</td>\n",
       "      <td>5324.250000</td>\n",
       "      <td>6.540000</td>\n",
       "      <td>6.540000</td>\n",
       "      <td>4.040000</td>\n",
       "    </tr>\n",
       "    <tr>\n",
       "      <th>max</th>\n",
       "      <td>5.010000</td>\n",
       "      <td>79.000000</td>\n",
       "      <td>95.000000</td>\n",
       "      <td>18823.000000</td>\n",
       "      <td>10.740000</td>\n",
       "      <td>58.900000</td>\n",
       "      <td>31.800000</td>\n",
       "    </tr>\n",
       "  </tbody>\n",
       "</table>\n",
       "</div>"
      ],
      "text/plain": [
       "              carat         depth         table         price             x  \\\n",
       "count  53940.000000  53940.000000  53940.000000  53940.000000  53940.000000   \n",
       "mean       0.797940     61.749405     57.457184   3932.799722      5.731157   \n",
       "std        0.474011      1.432621      2.234491   3989.439738      1.121761   \n",
       "min        0.200000     43.000000     43.000000    326.000000      0.000000   \n",
       "25%        0.400000     61.000000     56.000000    950.000000      4.710000   \n",
       "50%        0.700000     61.800000     57.000000   2401.000000      5.700000   \n",
       "75%        1.040000     62.500000     59.000000   5324.250000      6.540000   \n",
       "max        5.010000     79.000000     95.000000  18823.000000     10.740000   \n",
       "\n",
       "                  y             z  \n",
       "count  53940.000000  53940.000000  \n",
       "mean       5.734526      3.538734  \n",
       "std        1.142135      0.705699  \n",
       "min        0.000000      0.000000  \n",
       "25%        4.720000      2.910000  \n",
       "50%        5.710000      3.530000  \n",
       "75%        6.540000      4.040000  \n",
       "max       58.900000     31.800000  "
      ]
     },
     "execution_count": 8,
     "metadata": {},
     "output_type": "execute_result"
    }
   ],
   "source": [
    "df.describe()"
   ]
  },
  {
   "cell_type": "code",
   "execution_count": 9,
   "id": "3f104d58",
   "metadata": {},
   "outputs": [
    {
     "data": {
      "image/png": "[encoded data removed]",
      "text/plain": [
       "<Figure size 1200x300 with 3 Axes>"
      ]
     },
     "metadata": {},
     "output_type": "display_data"
    }
   ],
   "source": [
    "#Univariate- Categorical Analysis\n",
    "\n",
    "fig, axs=plt.subplots(1,3, figsize=(12,3), constrained_layout=True)\n",
    "fig.suptitle(\"Univariate Plotting- Categorical Features\")\n",
    "\n",
    "axs[0].set_title('Cut')\n",
    "sns.countplot(data=df,x='cut',ax=axs[0])\n",
    "\n",
    "axs[1].set_title('Color')\n",
    "sns.countplot(data=df,x='color',ax=axs[1])\n",
    "\n",
    "axs[2].set_title('Clarity')\n",
    "sns.countplot(data=df,x='clarity',ax=axs[2])\n",
    "\n",
    "plt.show()"
   ]
  },
  {
   "cell_type": "code",
   "execution_count": 10,
   "id": "519375ce",
   "metadata": {},
   "outputs": [
    {
     "data": {
      "image/png": "[encoded data removed]",
      "text/plain": [
       "<Figure size 1200x300 with 3 Axes>"
      ]
     },
     "metadata": {},
     "output_type": "display_data"
    }
   ],
   "source": [
    "#Bivariate- Categorical vs Numerical Analysis\n",
    "\n",
    "fig, axs=plt.subplots(1,3, figsize=(12,3), constrained_layout=True)\n",
    "fig.suptitle(\"Numerical Vs Catagorical Visualization\")\n",
    "\n",
    "axs[0].set_title('Cut vs Price')\n",
    "sns.boxplot(data=df,x='price',y='cut',ax=axs[0])\n",
    "\n",
    "axs[1].set_title('Color vs Price')\n",
    "sns.boxplot(data=df,x='price',y='color',ax=axs[1])\n",
    "\n",
    "axs[2].set_title('Clarity vs Price')\n",
    "sns.boxplot(data=df,x='price',y='clarity',ax=axs[2])\n",
    "\n",
    "plt.show()"
   ]
  },
  {
   "cell_type": "code",
   "execution_count": 11,
   "id": "c53d0d9e",
   "metadata": {},
   "outputs": [
    {
     "data": {
      "image/png": "[encoded data removed]",
      "text/plain": [
       "<Figure size 1200x300 with 3 Axes>"
      ]
     },
     "metadata": {},
     "output_type": "display_data"
    }
   ],
   "source": [
    "#Univariate- Numerical analysis\n",
    "\n",
    "fig, axs=plt.subplots(1,3, figsize=(12,3), constrained_layout=True)\n",
    "fig.suptitle(\"Numerical Visualization\")\n",
    "\n",
    "axs[0].set_title('Carat')\n",
    "sns.histplot(data=df,x='carat',ax=axs[0])\n",
    "\n",
    "axs[1].set_title('Depth')\n",
    "sns.histplot(data=df,x='depth',ax=axs[1])\n",
    "\n",
    "axs[2].set_title('Table')\n",
    "sns.histplot(data=df,x='table',ax=axs[2])\n",
    "\n",
    "plt.show()"
   ]
  },
  {
   "cell_type": "code",
   "execution_count": 12,
   "id": "a7d91e35",
   "metadata": {},
   "outputs": [
    {
     "name": "stderr",
     "output_type": "stream",
     "text": [
      "C:\\Users\\yuvraj\\anaconda3\\Lib\\site-packages\\seaborn\\axisgrid.py:118: UserWarning: The figure layout has changed to tight\n",
      "  self._figure.tight_layout(*args, **kwargs)\n"
     ]
    },
    {
     "data": {
      "image/png": "[encoded data removed]",
      "text/plain": [
       "<Figure size 750x250 with 3 Axes>"
      ]
     },
     "metadata": {},
     "output_type": "display_data"
    }
   ],
   "source": [
    "#Bivariate Numerical Vs Numerical\n",
    "sns.pairplot(data=df,\n",
    "            x_vars=['x','y','z'],\n",
    "            y_vars='price')\n",
    "\n",
    "plt.show()"
   ]
  },
  {
   "cell_type": "markdown",
   "id": "2b8b1209",
   "metadata": {},
   "source": [
    "# Data Preparation and Model Building Pipeline"
   ]
  },
  {
   "cell_type": "markdown",
   "id": "e3ecabfa",
   "metadata": {},
   "source": [
    "* Identifying the inputs (X) and output (y)\n",
    "* Split into train and test (X_train, X_test, y_train, y_test)\n",
    "* Data Preparation: Data Cleaning and Feature Engineering.\n",
    "* Clean the training data\n",
    "* Preprocess the training data (X_train_transformed)\n",
    "* Training Phase: Build a model\n",
    "* Preprocess the test data (X_test_transformed)\n",
    "* Predict on unseen data\n",
    "* Evaluate the model performance"
   ]
  },
  {
   "cell_type": "code",
   "execution_count": 13,
   "id": "24e0538a",
   "metadata": {},
   "outputs": [
    {
     "name": "stdout",
     "output_type": "stream",
     "text": [
      "Requirement already satisfied: scikit-learn in c:\\users\\yuvraj\\anaconda3\\lib\\site-packages (1.5.2)\n",
      "Requirement already satisfied: numpy>=1.19.5 in c:\\users\\yuvraj\\anaconda3\\lib\\site-packages (from scikit-learn) (1.24.3)\n",
      "Requirement already satisfied: scipy>=1.6.0 in c:\\users\\yuvraj\\anaconda3\\lib\\site-packages (from scikit-learn) (1.11.1)\n",
      "Requirement already satisfied: joblib>=1.2.0 in c:\\users\\yuvraj\\anaconda3\\lib\\site-packages (from scikit-learn) (1.2.0)\n",
      "Requirement already satisfied: threadpoolctl>=3.1.0 in c:\\users\\yuvraj\\anaconda3\\lib\\site-packages (from scikit-learn) (3.5.0)\n"
     ]
    }
   ],
   "source": [
    "#Installing Scikit Learn\n",
    "!pip install -U scikit-learn"
   ]
  },
  {
   "cell_type": "code",
   "execution_count": 14,
   "id": "ee716a52",
   "metadata": {},
   "outputs": [
    {
     "name": "stdout",
     "output_type": "stream",
     "text": [
      "1.5.2\n"
     ]
    }
   ],
   "source": [
    "import sklearn\n",
    "print(sklearn.__version__)"
   ]
  },
  {
   "cell_type": "markdown",
   "id": "87b6043a",
   "metadata": {},
   "source": [
    "# Segregate Inputs(X) and Output(y)"
   ]
  },
  {
   "cell_type": "code",
   "execution_count": 15,
   "id": "6a638592",
   "metadata": {},
   "outputs": [],
   "source": [
    "X=df.drop(columns=['price'])\n",
    "y=df['price']"
   ]
  },
  {
   "cell_type": "markdown",
   "id": "bfa4a12e",
   "metadata": {},
   "source": [
    "# Split Data Into Train And Test Split"
   ]
  },
  {
   "cell_type": "code",
   "execution_count": 16,
   "id": "4700f90c",
   "metadata": {},
   "outputs": [
    {
     "name": "stdout",
     "output_type": "stream",
     "text": [
      "(40455, 9) (40455,)\n",
      "(13485, 9) (13485,)\n"
     ]
    }
   ],
   "source": [
    "from sklearn.model_selection import train_test_split\n",
    "\n",
    "X_train,X_test,y_train,y_test= train_test_split(X,y,\n",
    "                                               test_size=0.25,\n",
    "                                               random_state=0)\n",
    "\n",
    "print(X_train.shape, y_train.shape)\n",
    "print(X_test.shape, y_test.shape)"
   ]
  },
  {
   "cell_type": "markdown",
   "id": "66559ca7",
   "metadata": {},
   "source": [
    "# Apply Data Preparation on Training Data"
   ]
  },
  {
   "cell_type": "markdown",
   "id": "ff3d16cc",
   "metadata": {},
   "source": [
    "* Separate Numerical and Categorical Features\n",
    "* Feature Engineering/Extraction/Transformation\n",
    "   * Applying Standardization on Numerical Features\n",
    "   * Apply LabelEncoding on Categorical Features"
   ]
  },
  {
   "cell_type": "code",
   "execution_count": 17,
   "id": "fc3dd38a",
   "metadata": {},
   "outputs": [
    {
     "data": {
      "text/plain": [
       "carat      float64\n",
       "cut         object\n",
       "color       object\n",
       "clarity     object\n",
       "depth      float64\n",
       "table      float64\n",
       "x          float64\n",
       "y          float64\n",
       "z          float64\n",
       "dtype: object"
      ]
     },
     "execution_count": 17,
     "metadata": {},
     "output_type": "execute_result"
    }
   ],
   "source": [
    "X_train.dtypes"
   ]
  },
  {
   "cell_type": "code",
   "execution_count": 18,
   "id": "44227d98",
   "metadata": {},
   "outputs": [],
   "source": [
    "#Separating Categorical and Numerical Columns\n",
    "\n",
    "X_train_cat= X_train.select_dtypes(include=['object'])\n",
    "X_train_num= X_train.select_dtypes(include=['int64','float64'])"
   ]
  },
  {
   "cell_type": "code",
   "execution_count": 19,
   "id": "44733420",
   "metadata": {},
   "outputs": [
    {
     "data": {
      "text/html": [
       "<div>\n",
       "<style scoped>\n",
       "    .dataframe tbody tr th:only-of-type {\n",
       "        vertical-align: middle;\n",
       "    }\n",
       "\n",
       "    .dataframe tbody tr th {\n",
       "        vertical-align: top;\n",
       "    }\n",
       "\n",
       "    .dataframe thead th {\n",
       "        text-align: right;\n",
       "    }\n",
       "</style>\n",
       "<table border=\"1\" class=\"dataframe\">\n",
       "  <thead>\n",
       "    <tr style=\"text-align: right;\">\n",
       "      <th></th>\n",
       "      <th>cut</th>\n",
       "      <th>color</th>\n",
       "      <th>clarity</th>\n",
       "    </tr>\n",
       "  </thead>\n",
       "  <tbody>\n",
       "    <tr>\n",
       "      <th>441</th>\n",
       "      <td>Premium</td>\n",
       "      <td>H</td>\n",
       "      <td>SI2</td>\n",
       "    </tr>\n",
       "    <tr>\n",
       "      <th>50332</th>\n",
       "      <td>Very Good</td>\n",
       "      <td>D</td>\n",
       "      <td>SI1</td>\n",
       "    </tr>\n",
       "    <tr>\n",
       "      <th>35652</th>\n",
       "      <td>Ideal</td>\n",
       "      <td>G</td>\n",
       "      <td>VVS2</td>\n",
       "    </tr>\n",
       "    <tr>\n",
       "      <th>9439</th>\n",
       "      <td>Very Good</td>\n",
       "      <td>H</td>\n",
       "      <td>VS1</td>\n",
       "    </tr>\n",
       "    <tr>\n",
       "      <th>15824</th>\n",
       "      <td>Good</td>\n",
       "      <td>F</td>\n",
       "      <td>VS2</td>\n",
       "    </tr>\n",
       "  </tbody>\n",
       "</table>\n",
       "</div>"
      ],
      "text/plain": [
       "             cut color clarity\n",
       "441      Premium     H     SI2\n",
       "50332  Very Good     D     SI1\n",
       "35652      Ideal     G    VVS2\n",
       "9439   Very Good     H     VS1\n",
       "15824       Good     F     VS2"
      ]
     },
     "execution_count": 19,
     "metadata": {},
     "output_type": "execute_result"
    }
   ],
   "source": [
    "X_train_cat.head()"
   ]
  },
  {
   "cell_type": "code",
   "execution_count": 20,
   "id": "322c7b29",
   "metadata": {},
   "outputs": [
    {
     "data": {
      "text/html": [
       "<div>\n",
       "<style scoped>\n",
       "    .dataframe tbody tr th:only-of-type {\n",
       "        vertical-align: middle;\n",
       "    }\n",
       "\n",
       "    .dataframe tbody tr th {\n",
       "        vertical-align: top;\n",
       "    }\n",
       "\n",
       "    .dataframe thead th {\n",
       "        text-align: right;\n",
       "    }\n",
       "</style>\n",
       "<table border=\"1\" class=\"dataframe\">\n",
       "  <thead>\n",
       "    <tr style=\"text-align: right;\">\n",
       "      <th></th>\n",
       "      <th>carat</th>\n",
       "      <th>depth</th>\n",
       "      <th>table</th>\n",
       "      <th>x</th>\n",
       "      <th>y</th>\n",
       "      <th>z</th>\n",
       "    </tr>\n",
       "  </thead>\n",
       "  <tbody>\n",
       "    <tr>\n",
       "      <th>441</th>\n",
       "      <td>0.89</td>\n",
       "      <td>60.2</td>\n",
       "      <td>59.0</td>\n",
       "      <td>6.26</td>\n",
       "      <td>6.23</td>\n",
       "      <td>3.76</td>\n",
       "    </tr>\n",
       "    <tr>\n",
       "      <th>50332</th>\n",
       "      <td>0.70</td>\n",
       "      <td>64.0</td>\n",
       "      <td>53.0</td>\n",
       "      <td>5.57</td>\n",
       "      <td>5.61</td>\n",
       "      <td>3.58</td>\n",
       "    </tr>\n",
       "    <tr>\n",
       "      <th>35652</th>\n",
       "      <td>0.31</td>\n",
       "      <td>62.7</td>\n",
       "      <td>57.0</td>\n",
       "      <td>4.33</td>\n",
       "      <td>4.31</td>\n",
       "      <td>2.71</td>\n",
       "    </tr>\n",
       "    <tr>\n",
       "      <th>9439</th>\n",
       "      <td>0.90</td>\n",
       "      <td>62.3</td>\n",
       "      <td>59.0</td>\n",
       "      <td>6.12</td>\n",
       "      <td>6.17</td>\n",
       "      <td>3.83</td>\n",
       "    </tr>\n",
       "    <tr>\n",
       "      <th>15824</th>\n",
       "      <td>1.01</td>\n",
       "      <td>60.6</td>\n",
       "      <td>62.0</td>\n",
       "      <td>6.52</td>\n",
       "      <td>6.49</td>\n",
       "      <td>3.94</td>\n",
       "    </tr>\n",
       "  </tbody>\n",
       "</table>\n",
       "</div>"
      ],
      "text/plain": [
       "       carat  depth  table     x     y     z\n",
       "441     0.89   60.2   59.0  6.26  6.23  3.76\n",
       "50332   0.70   64.0   53.0  5.57  5.61  3.58\n",
       "35652   0.31   62.7   57.0  4.33  4.31  2.71\n",
       "9439    0.90   62.3   59.0  6.12  6.17  3.83\n",
       "15824   1.01   60.6   62.0  6.52  6.49  3.94"
      ]
     },
     "execution_count": 20,
     "metadata": {},
     "output_type": "execute_result"
    }
   ],
   "source": [
    "X_train_num.head()"
   ]
  },
  {
   "cell_type": "markdown",
   "id": "26fccc6d",
   "metadata": {},
   "source": [
    "# Numerical Feature Transformation: Applying Standardization"
   ]
  },
  {
   "cell_type": "code",
   "execution_count": 21,
   "id": "4f6c669a",
   "metadata": {},
   "outputs": [
    {
     "data": {
      "text/html": [
       "<div>\n",
       "<style scoped>\n",
       "    .dataframe tbody tr th:only-of-type {\n",
       "        vertical-align: middle;\n",
       "    }\n",
       "\n",
       "    .dataframe tbody tr th {\n",
       "        vertical-align: top;\n",
       "    }\n",
       "\n",
       "    .dataframe thead th {\n",
       "        text-align: right;\n",
       "    }\n",
       "</style>\n",
       "<table border=\"1\" class=\"dataframe\">\n",
       "  <thead>\n",
       "    <tr style=\"text-align: right;\">\n",
       "      <th></th>\n",
       "      <th>carat</th>\n",
       "      <th>depth</th>\n",
       "      <th>table</th>\n",
       "      <th>x</th>\n",
       "      <th>y</th>\n",
       "      <th>z</th>\n",
       "    </tr>\n",
       "  </thead>\n",
       "  <tbody>\n",
       "    <tr>\n",
       "      <th>441</th>\n",
       "      <td>0.194920</td>\n",
       "      <td>-1.085697</td>\n",
       "      <td>0.694368</td>\n",
       "      <td>0.472201</td>\n",
       "      <td>0.430971</td>\n",
       "      <td>0.312528</td>\n",
       "    </tr>\n",
       "    <tr>\n",
       "      <th>50332</th>\n",
       "      <td>-0.205679</td>\n",
       "      <td>1.567623</td>\n",
       "      <td>-1.997562</td>\n",
       "      <td>-0.142482</td>\n",
       "      <td>-0.107276</td>\n",
       "      <td>0.058918</td>\n",
       "    </tr>\n",
       "    <tr>\n",
       "      <th>35652</th>\n",
       "      <td>-1.027961</td>\n",
       "      <td>0.659908</td>\n",
       "      <td>-0.202942</td>\n",
       "      <td>-1.247129</td>\n",
       "      <td>-1.235860</td>\n",
       "      <td>-1.166861</td>\n",
       "    </tr>\n",
       "    <tr>\n",
       "      <th>9439</th>\n",
       "      <td>0.216004</td>\n",
       "      <td>0.380611</td>\n",
       "      <td>0.694368</td>\n",
       "      <td>0.347483</td>\n",
       "      <td>0.378883</td>\n",
       "      <td>0.411154</td>\n",
       "    </tr>\n",
       "    <tr>\n",
       "      <th>15824</th>\n",
       "      <td>0.447930</td>\n",
       "      <td>-0.806400</td>\n",
       "      <td>2.040332</td>\n",
       "      <td>0.703821</td>\n",
       "      <td>0.656688</td>\n",
       "      <td>0.566137</td>\n",
       "    </tr>\n",
       "  </tbody>\n",
       "</table>\n",
       "</div>"
      ],
      "text/plain": [
       "          carat     depth     table         x         y         z\n",
       "441    0.194920 -1.085697  0.694368  0.472201  0.430971  0.312528\n",
       "50332 -0.205679  1.567623 -1.997562 -0.142482 -0.107276  0.058918\n",
       "35652 -1.027961  0.659908 -0.202942 -1.247129 -1.235860 -1.166861\n",
       "9439   0.216004  0.380611  0.694368  0.347483  0.378883  0.411154\n",
       "15824  0.447930 -0.806400  2.040332  0.703821  0.656688  0.566137"
      ]
     },
     "execution_count": 21,
     "metadata": {},
     "output_type": "execute_result"
    }
   ],
   "source": [
    "from sklearn.preprocessing import StandardScaler\n",
    "\n",
    "std_scaler= StandardScaler()\n",
    "\n",
    "X_train_num_transformed= pd.DataFrame(std_scaler.fit_transform(X_train_num),\n",
    "                                     columns=std_scaler.get_feature_names_out(),\n",
    "                                     index=X_train_num.index)\n",
    "\n",
    "X_train_num_transformed.head()"
   ]
  },
  {
   "cell_type": "code",
   "execution_count": 22,
   "id": "7f295e50",
   "metadata": {},
   "outputs": [
    {
     "name": "stdout",
     "output_type": "stream",
     "text": [
      "Number of Numerical Features: 6\n",
      "Output Feature Names: ['carat' 'depth' 'table' 'x' 'y' 'z']\n",
      "Mean of each column: [ 0.79755135 61.75490051 57.45233469  5.72994018  5.73356989  3.53818267]\n",
      "Std of each column: [0.47428986 1.43216771 2.22888453 1.1225301  1.15188634 0.7097527 ]\n"
     ]
    }
   ],
   "source": [
    "#Analyse the properties of 'std_scaler'\n",
    "\n",
    "print(\"Number of Numerical Features:\", std_scaler.n_features_in_)\n",
    "print(\"Output Feature Names:\", std_scaler.get_feature_names_out())\n",
    "print(\"Mean of each column:\", std_scaler.mean_)\n",
    "print(\"Std of each column:\", np.sqrt(std_scaler.var_))"
   ]
  },
  {
   "cell_type": "code",
   "execution_count": 23,
   "id": "f9b020e2",
   "metadata": {
    "scrolled": false
   },
   "outputs": [
    {
     "data": {
      "text/html": [
       "<div>\n",
       "<style scoped>\n",
       "    .dataframe tbody tr th:only-of-type {\n",
       "        vertical-align: middle;\n",
       "    }\n",
       "\n",
       "    .dataframe tbody tr th {\n",
       "        vertical-align: top;\n",
       "    }\n",
       "\n",
       "    .dataframe thead th {\n",
       "        text-align: right;\n",
       "    }\n",
       "</style>\n",
       "<table border=\"1\" class=\"dataframe\">\n",
       "  <thead>\n",
       "    <tr style=\"text-align: right;\">\n",
       "      <th></th>\n",
       "      <th>carat</th>\n",
       "      <th>depth</th>\n",
       "      <th>table</th>\n",
       "      <th>x</th>\n",
       "      <th>y</th>\n",
       "      <th>z</th>\n",
       "    </tr>\n",
       "  </thead>\n",
       "  <tbody>\n",
       "    <tr>\n",
       "      <th>count</th>\n",
       "      <td>40455.00</td>\n",
       "      <td>40455.00</td>\n",
       "      <td>40455.00</td>\n",
       "      <td>40455.00</td>\n",
       "      <td>40455.00</td>\n",
       "      <td>40455.00</td>\n",
       "    </tr>\n",
       "    <tr>\n",
       "      <th>mean</th>\n",
       "      <td>-0.00</td>\n",
       "      <td>0.00</td>\n",
       "      <td>-0.00</td>\n",
       "      <td>0.00</td>\n",
       "      <td>-0.00</td>\n",
       "      <td>0.00</td>\n",
       "    </tr>\n",
       "    <tr>\n",
       "      <th>std</th>\n",
       "      <td>1.00</td>\n",
       "      <td>1.00</td>\n",
       "      <td>1.00</td>\n",
       "      <td>1.00</td>\n",
       "      <td>1.00</td>\n",
       "      <td>1.00</td>\n",
       "    </tr>\n",
       "    <tr>\n",
       "      <th>min</th>\n",
       "      <td>-1.26</td>\n",
       "      <td>-13.10</td>\n",
       "      <td>-6.48</td>\n",
       "      <td>-5.10</td>\n",
       "      <td>-4.98</td>\n",
       "      <td>-4.99</td>\n",
       "    </tr>\n",
       "    <tr>\n",
       "      <th>25%</th>\n",
       "      <td>-0.84</td>\n",
       "      <td>-0.46</td>\n",
       "      <td>-0.65</td>\n",
       "      <td>-0.91</td>\n",
       "      <td>-0.88</td>\n",
       "      <td>-0.89</td>\n",
       "    </tr>\n",
       "    <tr>\n",
       "      <th>50%</th>\n",
       "      <td>-0.21</td>\n",
       "      <td>0.10</td>\n",
       "      <td>-0.20</td>\n",
       "      <td>-0.04</td>\n",
       "      <td>-0.02</td>\n",
       "      <td>-0.03</td>\n",
       "    </tr>\n",
       "    <tr>\n",
       "      <th>75%</th>\n",
       "      <td>0.51</td>\n",
       "      <td>0.52</td>\n",
       "      <td>0.69</td>\n",
       "      <td>0.72</td>\n",
       "      <td>0.70</td>\n",
       "      <td>0.71</td>\n",
       "    </tr>\n",
       "    <tr>\n",
       "      <th>max</th>\n",
       "      <td>8.88</td>\n",
       "      <td>12.04</td>\n",
       "      <td>9.67</td>\n",
       "      <td>4.46</td>\n",
       "      <td>46.16</td>\n",
       "      <td>39.82</td>\n",
       "    </tr>\n",
       "  </tbody>\n",
       "</table>\n",
       "</div>"
      ],
      "text/plain": [
       "          carat     depth     table         x         y         z\n",
       "count  40455.00  40455.00  40455.00  40455.00  40455.00  40455.00\n",
       "mean      -0.00      0.00     -0.00      0.00     -0.00      0.00\n",
       "std        1.00      1.00      1.00      1.00      1.00      1.00\n",
       "min       -1.26    -13.10     -6.48     -5.10     -4.98     -4.99\n",
       "25%       -0.84     -0.46     -0.65     -0.91     -0.88     -0.89\n",
       "50%       -0.21      0.10     -0.20     -0.04     -0.02     -0.03\n",
       "75%        0.51      0.52      0.69      0.72      0.70      0.71\n",
       "max        8.88     12.04      9.67      4.46     46.16     39.82"
      ]
     },
     "execution_count": 23,
     "metadata": {},
     "output_type": "execute_result"
    }
   ],
   "source": [
    "X_train_num_transformed.describe().round(2)   # round(2): This rounds all the numerical values in the output of .describe() to 2 decimal places, making the summary easier to read."
   ]
  },
  {
   "cell_type": "markdown",
   "id": "f0973ac5",
   "metadata": {},
   "source": [
    "# Categorical Feature Transformation: Applying Ordinal Encoding"
   ]
  },
  {
   "cell_type": "code",
   "execution_count": 24,
   "id": "d993ff94",
   "metadata": {},
   "outputs": [],
   "source": [
    "# We used Ordinal Encoding Because Three Categorical Features are Ordinal\n",
    "\n",
    "# Define the ordering for categorical columns (lowest to highest)\n",
    "\n",
    "cut_categories = ['Fair', 'Good', 'Very Good', 'Premium', 'Ideal']\n",
    "color_categories = ['J', 'I', 'H', 'G', 'F', 'E', 'D']\n",
    "clarity_categories = ['I1', 'SI2', 'SI1', 'VS2', 'VS1', 'VVS2', 'VVS1', 'IF']"
   ]
  },
  {
   "cell_type": "code",
   "execution_count": 25,
   "id": "d641541c",
   "metadata": {},
   "outputs": [
    {
     "data": {
      "text/html": [
       "<div>\n",
       "<style scoped>\n",
       "    .dataframe tbody tr th:only-of-type {\n",
       "        vertical-align: middle;\n",
       "    }\n",
       "\n",
       "    .dataframe tbody tr th {\n",
       "        vertical-align: top;\n",
       "    }\n",
       "\n",
       "    .dataframe thead th {\n",
       "        text-align: right;\n",
       "    }\n",
       "</style>\n",
       "<table border=\"1\" class=\"dataframe\">\n",
       "  <thead>\n",
       "    <tr style=\"text-align: right;\">\n",
       "      <th></th>\n",
       "      <th>cut</th>\n",
       "      <th>color</th>\n",
       "      <th>clarity</th>\n",
       "    </tr>\n",
       "  </thead>\n",
       "  <tbody>\n",
       "    <tr>\n",
       "      <th>441</th>\n",
       "      <td>3.0</td>\n",
       "      <td>2.0</td>\n",
       "      <td>1.0</td>\n",
       "    </tr>\n",
       "    <tr>\n",
       "      <th>50332</th>\n",
       "      <td>2.0</td>\n",
       "      <td>6.0</td>\n",
       "      <td>2.0</td>\n",
       "    </tr>\n",
       "    <tr>\n",
       "      <th>35652</th>\n",
       "      <td>4.0</td>\n",
       "      <td>3.0</td>\n",
       "      <td>5.0</td>\n",
       "    </tr>\n",
       "    <tr>\n",
       "      <th>9439</th>\n",
       "      <td>2.0</td>\n",
       "      <td>2.0</td>\n",
       "      <td>4.0</td>\n",
       "    </tr>\n",
       "    <tr>\n",
       "      <th>15824</th>\n",
       "      <td>1.0</td>\n",
       "      <td>4.0</td>\n",
       "      <td>3.0</td>\n",
       "    </tr>\n",
       "  </tbody>\n",
       "</table>\n",
       "</div>"
      ],
      "text/plain": [
       "       cut  color  clarity\n",
       "441    3.0    2.0      1.0\n",
       "50332  2.0    6.0      2.0\n",
       "35652  4.0    3.0      5.0\n",
       "9439   2.0    2.0      4.0\n",
       "15824  1.0    4.0      3.0"
      ]
     },
     "execution_count": 25,
     "metadata": {},
     "output_type": "execute_result"
    }
   ],
   "source": [
    "from sklearn.preprocessing import OrdinalEncoder\n",
    "\n",
    "ordinal_encoder = OrdinalEncoder(categories=[cut_categories, color_categories, clarity_categories],  \n",
    "                                 handle_unknown=\"use_encoded_value\",\n",
    "                                 unknown_value=-1, \n",
    "                                 encoded_missing_value=-5)\n",
    "\n",
    "X_train_cat_transformed= pd.DataFrame(ordinal_encoder.fit_transform(X_train_cat),\n",
    "                                     columns= ordinal_encoder.get_feature_names_out(),\n",
    "                                     index= X_train_cat.index)\n",
    "\n",
    "X_train_cat_transformed.head()"
   ]
  },
  {
   "cell_type": "code",
   "execution_count": 26,
   "id": "fddd6ec1",
   "metadata": {},
   "outputs": [
    {
     "name": "stdout",
     "output_type": "stream",
     "text": [
      "Applied encoding on: ['cut' 'color' 'clarity']\n",
      "Unique Categories: [array(['Fair', 'Good', 'Very Good', 'Premium', 'Ideal'], dtype=object), array(['J', 'I', 'H', 'G', 'F', 'E', 'D'], dtype=object), array(['I1', 'SI2', 'SI1', 'VS2', 'VS1', 'VVS2', 'VVS1', 'IF'],\n",
      "      dtype=object)]\n",
      "Feature Names after encoding: ['cut' 'color' 'clarity']\n"
     ]
    }
   ],
   "source": [
    "#Analyse the properties of 'ordinal_encoder'\n",
    "\n",
    "print(\"Applied encoding on:\", ordinal_encoder.feature_names_in_)\n",
    "print(\"Unique Categories:\", ordinal_encoder.categories_)\n",
    "print(\"Feature Names after encoding:\", ordinal_encoder.get_feature_names_out())"
   ]
  },
  {
   "cell_type": "markdown",
   "id": "50f8a84b",
   "metadata": {},
   "source": [
    "# Concatinate The X_train_num_transformed and X_train_cat_transformed"
   ]
  },
  {
   "cell_type": "code",
   "execution_count": 27,
   "id": "b30c757a",
   "metadata": {},
   "outputs": [
    {
     "data": {
      "text/html": [
       "<div>\n",
       "<style scoped>\n",
       "    .dataframe tbody tr th:only-of-type {\n",
       "        vertical-align: middle;\n",
       "    }\n",
       "\n",
       "    .dataframe tbody tr th {\n",
       "        vertical-align: top;\n",
       "    }\n",
       "\n",
       "    .dataframe thead th {\n",
       "        text-align: right;\n",
       "    }\n",
       "</style>\n",
       "<table border=\"1\" class=\"dataframe\">\n",
       "  <thead>\n",
       "    <tr style=\"text-align: right;\">\n",
       "      <th></th>\n",
       "      <th>carat</th>\n",
       "      <th>depth</th>\n",
       "      <th>table</th>\n",
       "      <th>x</th>\n",
       "      <th>y</th>\n",
       "      <th>z</th>\n",
       "      <th>cut</th>\n",
       "      <th>color</th>\n",
       "      <th>clarity</th>\n",
       "    </tr>\n",
       "  </thead>\n",
       "  <tbody>\n",
       "    <tr>\n",
       "      <th>441</th>\n",
       "      <td>0.194920</td>\n",
       "      <td>-1.085697</td>\n",
       "      <td>0.694368</td>\n",
       "      <td>0.472201</td>\n",
       "      <td>0.430971</td>\n",
       "      <td>0.312528</td>\n",
       "      <td>3.0</td>\n",
       "      <td>2.0</td>\n",
       "      <td>1.0</td>\n",
       "    </tr>\n",
       "    <tr>\n",
       "      <th>50332</th>\n",
       "      <td>-0.205679</td>\n",
       "      <td>1.567623</td>\n",
       "      <td>-1.997562</td>\n",
       "      <td>-0.142482</td>\n",
       "      <td>-0.107276</td>\n",
       "      <td>0.058918</td>\n",
       "      <td>2.0</td>\n",
       "      <td>6.0</td>\n",
       "      <td>2.0</td>\n",
       "    </tr>\n",
       "    <tr>\n",
       "      <th>35652</th>\n",
       "      <td>-1.027961</td>\n",
       "      <td>0.659908</td>\n",
       "      <td>-0.202942</td>\n",
       "      <td>-1.247129</td>\n",
       "      <td>-1.235860</td>\n",
       "      <td>-1.166861</td>\n",
       "      <td>4.0</td>\n",
       "      <td>3.0</td>\n",
       "      <td>5.0</td>\n",
       "    </tr>\n",
       "    <tr>\n",
       "      <th>9439</th>\n",
       "      <td>0.216004</td>\n",
       "      <td>0.380611</td>\n",
       "      <td>0.694368</td>\n",
       "      <td>0.347483</td>\n",
       "      <td>0.378883</td>\n",
       "      <td>0.411154</td>\n",
       "      <td>2.0</td>\n",
       "      <td>2.0</td>\n",
       "      <td>4.0</td>\n",
       "    </tr>\n",
       "    <tr>\n",
       "      <th>15824</th>\n",
       "      <td>0.447930</td>\n",
       "      <td>-0.806400</td>\n",
       "      <td>2.040332</td>\n",
       "      <td>0.703821</td>\n",
       "      <td>0.656688</td>\n",
       "      <td>0.566137</td>\n",
       "      <td>1.0</td>\n",
       "      <td>4.0</td>\n",
       "      <td>3.0</td>\n",
       "    </tr>\n",
       "  </tbody>\n",
       "</table>\n",
       "</div>"
      ],
      "text/plain": [
       "          carat     depth     table         x         y         z  cut  color  \\\n",
       "441    0.194920 -1.085697  0.694368  0.472201  0.430971  0.312528  3.0    2.0   \n",
       "50332 -0.205679  1.567623 -1.997562 -0.142482 -0.107276  0.058918  2.0    6.0   \n",
       "35652 -1.027961  0.659908 -0.202942 -1.247129 -1.235860 -1.166861  4.0    3.0   \n",
       "9439   0.216004  0.380611  0.694368  0.347483  0.378883  0.411154  2.0    2.0   \n",
       "15824  0.447930 -0.806400  2.040332  0.703821  0.656688  0.566137  1.0    4.0   \n",
       "\n",
       "       clarity  \n",
       "441        1.0  \n",
       "50332      2.0  \n",
       "35652      5.0  \n",
       "9439       4.0  \n",
       "15824      3.0  "
      ]
     },
     "execution_count": 27,
     "metadata": {},
     "output_type": "execute_result"
    }
   ],
   "source": [
    "X_train_transformed= pd.concat([X_train_num_transformed, X_train_cat_transformed],axis=1)\n",
    "X_train_transformed.head()"
   ]
  },
  {
   "cell_type": "markdown",
   "id": "c3d41c9c",
   "metadata": {},
   "source": [
    "# Applying Data Preparation on Test Data"
   ]
  },
  {
   "cell_type": "code",
   "execution_count": 28,
   "id": "64266aef",
   "metadata": {},
   "outputs": [],
   "source": [
    "# Separate Categorical and Numerical Features\n",
    "\n",
    "X_test_cat = X_test.select_dtypes(include=['object'])\n",
    "X_test_num = X_test.select_dtypes(include=['int64', 'float64'])"
   ]
  },
  {
   "cell_type": "code",
   "execution_count": 29,
   "id": "6d1180a4",
   "metadata": {},
   "outputs": [
    {
     "data": {
      "text/html": [
       "<div>\n",
       "<style scoped>\n",
       "    .dataframe tbody tr th:only-of-type {\n",
       "        vertical-align: middle;\n",
       "    }\n",
       "\n",
       "    .dataframe tbody tr th {\n",
       "        vertical-align: top;\n",
       "    }\n",
       "\n",
       "    .dataframe thead th {\n",
       "        text-align: right;\n",
       "    }\n",
       "</style>\n",
       "<table border=\"1\" class=\"dataframe\">\n",
       "  <thead>\n",
       "    <tr style=\"text-align: right;\">\n",
       "      <th></th>\n",
       "      <th>carat</th>\n",
       "      <th>depth</th>\n",
       "      <th>table</th>\n",
       "      <th>x</th>\n",
       "      <th>y</th>\n",
       "      <th>z</th>\n",
       "    </tr>\n",
       "  </thead>\n",
       "  <tbody>\n",
       "    <tr>\n",
       "      <th>10176</th>\n",
       "      <td>0.637687</td>\n",
       "      <td>0.171139</td>\n",
       "      <td>-1.100252</td>\n",
       "      <td>0.783997</td>\n",
       "      <td>0.795591</td>\n",
       "      <td>0.805657</td>\n",
       "    </tr>\n",
       "    <tr>\n",
       "      <th>16083</th>\n",
       "      <td>1.038286</td>\n",
       "      <td>0.590084</td>\n",
       "      <td>-0.651597</td>\n",
       "      <td>1.095792</td>\n",
       "      <td>1.038670</td>\n",
       "      <td>1.143803</td>\n",
       "    </tr>\n",
       "    <tr>\n",
       "      <th>13420</th>\n",
       "      <td>0.848529</td>\n",
       "      <td>-0.457279</td>\n",
       "      <td>0.245713</td>\n",
       "      <td>1.024525</td>\n",
       "      <td>0.925812</td>\n",
       "      <td>0.904283</td>\n",
       "    </tr>\n",
       "    <tr>\n",
       "      <th>20407</th>\n",
       "      <td>1.481053</td>\n",
       "      <td>-0.596928</td>\n",
       "      <td>-0.651597</td>\n",
       "      <td>1.514489</td>\n",
       "      <td>1.411971</td>\n",
       "      <td>1.355144</td>\n",
       "    </tr>\n",
       "    <tr>\n",
       "      <th>8909</th>\n",
       "      <td>0.216004</td>\n",
       "      <td>-0.038334</td>\n",
       "      <td>-0.202942</td>\n",
       "      <td>0.392025</td>\n",
       "      <td>0.413609</td>\n",
       "      <td>0.397064</td>\n",
       "    </tr>\n",
       "  </tbody>\n",
       "</table>\n",
       "</div>"
      ],
      "text/plain": [
       "          carat     depth     table         x         y         z\n",
       "10176  0.637687  0.171139 -1.100252  0.783997  0.795591  0.805657\n",
       "16083  1.038286  0.590084 -0.651597  1.095792  1.038670  1.143803\n",
       "13420  0.848529 -0.457279  0.245713  1.024525  0.925812  0.904283\n",
       "20407  1.481053 -0.596928 -0.651597  1.514489  1.411971  1.355144\n",
       "8909   0.216004 -0.038334 -0.202942  0.392025  0.413609  0.397064"
      ]
     },
     "execution_count": 29,
     "metadata": {},
     "output_type": "execute_result"
    }
   ],
   "source": [
    "# Applying transformation on Numerical data\n",
    "\n",
    "X_test_num_transformed = pd.DataFrame(std_scaler.transform(X_test_num), \n",
    "                                   columns = std_scaler.get_feature_names_out(), \n",
    "                                   index = X_test_num.index)\n",
    "\n",
    "X_test_num_transformed.head()"
   ]
  },
  {
   "cell_type": "code",
   "execution_count": 30,
   "id": "3f8bcdee",
   "metadata": {},
   "outputs": [
    {
     "data": {
      "text/html": [
       "<div>\n",
       "<style scoped>\n",
       "    .dataframe tbody tr th:only-of-type {\n",
       "        vertical-align: middle;\n",
       "    }\n",
       "\n",
       "    .dataframe tbody tr th {\n",
       "        vertical-align: top;\n",
       "    }\n",
       "\n",
       "    .dataframe thead th {\n",
       "        text-align: right;\n",
       "    }\n",
       "</style>\n",
       "<table border=\"1\" class=\"dataframe\">\n",
       "  <thead>\n",
       "    <tr style=\"text-align: right;\">\n",
       "      <th></th>\n",
       "      <th>cut</th>\n",
       "      <th>color</th>\n",
       "      <th>clarity</th>\n",
       "    </tr>\n",
       "  </thead>\n",
       "  <tbody>\n",
       "    <tr>\n",
       "      <th>10176</th>\n",
       "      <td>4.0</td>\n",
       "      <td>2.0</td>\n",
       "      <td>1.0</td>\n",
       "    </tr>\n",
       "    <tr>\n",
       "      <th>16083</th>\n",
       "      <td>4.0</td>\n",
       "      <td>2.0</td>\n",
       "      <td>2.0</td>\n",
       "    </tr>\n",
       "    <tr>\n",
       "      <th>13420</th>\n",
       "      <td>3.0</td>\n",
       "      <td>1.0</td>\n",
       "      <td>2.0</td>\n",
       "    </tr>\n",
       "    <tr>\n",
       "      <th>20407</th>\n",
       "      <td>4.0</td>\n",
       "      <td>4.0</td>\n",
       "      <td>2.0</td>\n",
       "    </tr>\n",
       "    <tr>\n",
       "      <th>8909</th>\n",
       "      <td>2.0</td>\n",
       "      <td>4.0</td>\n",
       "      <td>3.0</td>\n",
       "    </tr>\n",
       "  </tbody>\n",
       "</table>\n",
       "</div>"
      ],
      "text/plain": [
       "       cut  color  clarity\n",
       "10176  4.0    2.0      1.0\n",
       "16083  4.0    2.0      2.0\n",
       "13420  3.0    1.0      2.0\n",
       "20407  4.0    4.0      2.0\n",
       "8909   2.0    4.0      3.0"
      ]
     },
     "execution_count": 30,
     "metadata": {},
     "output_type": "execute_result"
    }
   ],
   "source": [
    "# Apply transformation on Categorical data\n",
    "\n",
    "X_test_cat_transformed = pd.DataFrame(ordinal_encoder.transform(X_test_cat), \n",
    "                                   columns = ordinal_encoder.get_feature_names_out(), \n",
    "                                   index = X_test_cat.index)\n",
    "\n",
    "X_test_cat_transformed.head()"
   ]
  },
  {
   "cell_type": "code",
   "execution_count": 31,
   "id": "aacc6dec",
   "metadata": {},
   "outputs": [
    {
     "data": {
      "text/html": [
       "<div>\n",
       "<style scoped>\n",
       "    .dataframe tbody tr th:only-of-type {\n",
       "        vertical-align: middle;\n",
       "    }\n",
       "\n",
       "    .dataframe tbody tr th {\n",
       "        vertical-align: top;\n",
       "    }\n",
       "\n",
       "    .dataframe thead th {\n",
       "        text-align: right;\n",
       "    }\n",
       "</style>\n",
       "<table border=\"1\" class=\"dataframe\">\n",
       "  <thead>\n",
       "    <tr style=\"text-align: right;\">\n",
       "      <th></th>\n",
       "      <th>carat</th>\n",
       "      <th>depth</th>\n",
       "      <th>table</th>\n",
       "      <th>x</th>\n",
       "      <th>y</th>\n",
       "      <th>z</th>\n",
       "      <th>cut</th>\n",
       "      <th>color</th>\n",
       "      <th>clarity</th>\n",
       "    </tr>\n",
       "  </thead>\n",
       "  <tbody>\n",
       "    <tr>\n",
       "      <th>10176</th>\n",
       "      <td>0.637687</td>\n",
       "      <td>0.171139</td>\n",
       "      <td>-1.100252</td>\n",
       "      <td>0.783997</td>\n",
       "      <td>0.795591</td>\n",
       "      <td>0.805657</td>\n",
       "      <td>4.0</td>\n",
       "      <td>2.0</td>\n",
       "      <td>1.0</td>\n",
       "    </tr>\n",
       "    <tr>\n",
       "      <th>16083</th>\n",
       "      <td>1.038286</td>\n",
       "      <td>0.590084</td>\n",
       "      <td>-0.651597</td>\n",
       "      <td>1.095792</td>\n",
       "      <td>1.038670</td>\n",
       "      <td>1.143803</td>\n",
       "      <td>4.0</td>\n",
       "      <td>2.0</td>\n",
       "      <td>2.0</td>\n",
       "    </tr>\n",
       "    <tr>\n",
       "      <th>13420</th>\n",
       "      <td>0.848529</td>\n",
       "      <td>-0.457279</td>\n",
       "      <td>0.245713</td>\n",
       "      <td>1.024525</td>\n",
       "      <td>0.925812</td>\n",
       "      <td>0.904283</td>\n",
       "      <td>3.0</td>\n",
       "      <td>1.0</td>\n",
       "      <td>2.0</td>\n",
       "    </tr>\n",
       "    <tr>\n",
       "      <th>20407</th>\n",
       "      <td>1.481053</td>\n",
       "      <td>-0.596928</td>\n",
       "      <td>-0.651597</td>\n",
       "      <td>1.514489</td>\n",
       "      <td>1.411971</td>\n",
       "      <td>1.355144</td>\n",
       "      <td>4.0</td>\n",
       "      <td>4.0</td>\n",
       "      <td>2.0</td>\n",
       "    </tr>\n",
       "    <tr>\n",
       "      <th>8909</th>\n",
       "      <td>0.216004</td>\n",
       "      <td>-0.038334</td>\n",
       "      <td>-0.202942</td>\n",
       "      <td>0.392025</td>\n",
       "      <td>0.413609</td>\n",
       "      <td>0.397064</td>\n",
       "      <td>2.0</td>\n",
       "      <td>4.0</td>\n",
       "      <td>3.0</td>\n",
       "    </tr>\n",
       "  </tbody>\n",
       "</table>\n",
       "</div>"
      ],
      "text/plain": [
       "          carat     depth     table         x         y         z  cut  color  \\\n",
       "10176  0.637687  0.171139 -1.100252  0.783997  0.795591  0.805657  4.0    2.0   \n",
       "16083  1.038286  0.590084 -0.651597  1.095792  1.038670  1.143803  4.0    2.0   \n",
       "13420  0.848529 -0.457279  0.245713  1.024525  0.925812  0.904283  3.0    1.0   \n",
       "20407  1.481053 -0.596928 -0.651597  1.514489  1.411971  1.355144  4.0    4.0   \n",
       "8909   0.216004 -0.038334 -0.202942  0.392025  0.413609  0.397064  2.0    4.0   \n",
       "\n",
       "       clarity  \n",
       "10176      1.0  \n",
       "16083      2.0  \n",
       "13420      2.0  \n",
       "20407      2.0  \n",
       "8909       3.0  "
      ]
     },
     "execution_count": 31,
     "metadata": {},
     "output_type": "execute_result"
    }
   ],
   "source": [
    "# Concatinate\\ing X_test_num_transformed and X_test_cat_transformed\n",
    "\n",
    "X_test_transformed = pd.concat([X_test_num_transformed, X_test_cat_transformed], axis=1)\n",
    "\n",
    "X_test_transformed.head()"
   ]
  },
  {
   "cell_type": "markdown",
   "id": "d3a426b9",
   "metadata": {},
   "source": [
    "# Training and Testing Phase"
   ]
  },
  {
   "cell_type": "markdown",
   "id": "85840c71",
   "metadata": {},
   "source": [
    "### Linear Regression ###"
   ]
  },
  {
   "cell_type": "code",
   "execution_count": 32,
   "id": "1f60e6fa",
   "metadata": {},
   "outputs": [
    {
     "name": "stdout",
     "output_type": "stream",
     "text": [
      "Model's Error: 806.1632101815305\n",
      "\n",
      "CPU times: total: 31.2 ms\n",
      "Wall time: 7.28 s\n"
     ]
    }
   ],
   "source": [
    "%%time\n",
    "\n",
    "from sklearn.linear_model import LinearRegression\n",
    "from sklearn import metrics\n",
    "\n",
    "regressor = LinearRegression()\n",
    "regressor.fit(X_train_transformed, y_train)\n",
    "\n",
    "y_test_pred = regressor.predict(X_test_transformed)\n",
    "\n",
    "print(\"Model's Error:\", metrics.mean_absolute_error(y_test, y_test_pred))\n",
    "print()"
   ]
  },
  {
   "cell_type": "code",
   "execution_count": 33,
   "id": "c2910a55",
   "metadata": {},
   "outputs": [
    {
     "data": {
      "text/html": [
       "<div>\n",
       "<style scoped>\n",
       "    .dataframe tbody tr th:only-of-type {\n",
       "        vertical-align: middle;\n",
       "    }\n",
       "\n",
       "    .dataframe tbody tr th {\n",
       "        vertical-align: top;\n",
       "    }\n",
       "\n",
       "    .dataframe thead th {\n",
       "        text-align: right;\n",
       "    }\n",
       "</style>\n",
       "<table border=\"1\" class=\"dataframe\">\n",
       "  <thead>\n",
       "    <tr style=\"text-align: right;\">\n",
       "      <th></th>\n",
       "      <th>Actual</th>\n",
       "      <th>Linear Regression Predictions</th>\n",
       "    </tr>\n",
       "  </thead>\n",
       "  <tbody>\n",
       "    <tr>\n",
       "      <th>10176</th>\n",
       "      <td>4733</td>\n",
       "      <td>5131.107679</td>\n",
       "    </tr>\n",
       "    <tr>\n",
       "      <th>16083</th>\n",
       "      <td>6424</td>\n",
       "      <td>7294.764679</td>\n",
       "    </tr>\n",
       "    <tr>\n",
       "      <th>13420</th>\n",
       "      <td>5510</td>\n",
       "      <td>6025.770217</td>\n",
       "    </tr>\n",
       "    <tr>\n",
       "      <th>20407</th>\n",
       "      <td>8770</td>\n",
       "      <td>9927.067650</td>\n",
       "    </tr>\n",
       "    <tr>\n",
       "      <th>8909</th>\n",
       "      <td>4493</td>\n",
       "      <td>4732.652453</td>\n",
       "    </tr>\n",
       "    <tr>\n",
       "      <th>...</th>\n",
       "      <td>...</td>\n",
       "      <td>...</td>\n",
       "    </tr>\n",
       "    <tr>\n",
       "      <th>52283</th>\n",
       "      <td>2494</td>\n",
       "      <td>3348.611770</td>\n",
       "    </tr>\n",
       "    <tr>\n",
       "      <th>10789</th>\n",
       "      <td>4861</td>\n",
       "      <td>4480.310760</td>\n",
       "    </tr>\n",
       "    <tr>\n",
       "      <th>1190</th>\n",
       "      <td>2932</td>\n",
       "      <td>3870.804522</td>\n",
       "    </tr>\n",
       "    <tr>\n",
       "      <th>3583</th>\n",
       "      <td>3422</td>\n",
       "      <td>4198.061830</td>\n",
       "    </tr>\n",
       "    <tr>\n",
       "      <th>40845</th>\n",
       "      <td>1173</td>\n",
       "      <td>1404.257826</td>\n",
       "    </tr>\n",
       "  </tbody>\n",
       "</table>\n",
       "<p>13485 rows × 2 columns</p>\n",
       "</div>"
      ],
      "text/plain": [
       "       Actual  Linear Regression Predictions\n",
       "10176    4733                    5131.107679\n",
       "16083    6424                    7294.764679\n",
       "13420    5510                    6025.770217\n",
       "20407    8770                    9927.067650\n",
       "8909     4493                    4732.652453\n",
       "...       ...                            ...\n",
       "52283    2494                    3348.611770\n",
       "10789    4861                    4480.310760\n",
       "1190     2932                    3870.804522\n",
       "3583     3422                    4198.061830\n",
       "40845    1173                    1404.257826\n",
       "\n",
       "[13485 rows x 2 columns]"
      ]
     },
     "execution_count": 33,
     "metadata": {},
     "output_type": "execute_result"
    }
   ],
   "source": [
    "output_df = pd.DataFrame({'Actual': y_test})\n",
    "output_df['Linear Regression Predictions'] = y_test_pred\n",
    "\n",
    "output_df"
   ]
  },
  {
   "cell_type": "code",
   "execution_count": 34,
   "id": "aef21494",
   "metadata": {},
   "outputs": [
    {
     "data": {
      "text/plain": [
       "<matplotlib.legend.Legend at 0x19e51b72750>"
      ]
     },
     "execution_count": 34,
     "metadata": {},
     "output_type": "execute_result"
    },
    {
     "data": {
      "image/png": "[encoded data removed]",
      "text/plain": [
       "<Figure size 800x300 with 1 Axes>"
      ]
     },
     "metadata": {},
     "output_type": "display_data"
    }
   ],
   "source": [
    "fig, ax = plt.subplots(figsize=(8,3))\n",
    "\n",
    "sns.histplot(output_df['Actual'], color='blue', alpha=0.5, label=\"actual\")\n",
    "sns.histplot(output_df['Linear Regression Predictions'], color='red', alpha=0.5, label=\"prediction\")\n",
    "\n",
    "plt.legend()"
   ]
  },
  {
   "cell_type": "markdown",
   "id": "a4dcc8aa",
   "metadata": {},
   "source": [
    "### KNN Regression ###"
   ]
  },
  {
   "cell_type": "code",
   "execution_count": 35,
   "id": "9912587f",
   "metadata": {},
   "outputs": [
    {
     "name": "stdout",
     "output_type": "stream",
     "text": [
      "Model's Error: 381.08851316277344\n",
      "\n",
      "CPU times: total: 500 ms\n",
      "Wall time: 5.28 s\n"
     ]
    }
   ],
   "source": [
    "%%time\n",
    "\n",
    "from sklearn.neighbors import KNeighborsRegressor\n",
    "from sklearn import metrics\n",
    "\n",
    "regressor = KNeighborsRegressor()\n",
    "regressor.fit(X_train_transformed, y_train)\n",
    "\n",
    "y_test_pred = regressor.predict(X_test_transformed)\n",
    "\n",
    "print(\"Model's Error:\", metrics.mean_absolute_error(y_test, y_test_pred))\n",
    "print()"
   ]
  },
  {
   "cell_type": "code",
   "execution_count": 36,
   "id": "2fd3c758",
   "metadata": {},
   "outputs": [
    {
     "data": {
      "text/html": [
       "<div>\n",
       "<style scoped>\n",
       "    .dataframe tbody tr th:only-of-type {\n",
       "        vertical-align: middle;\n",
       "    }\n",
       "\n",
       "    .dataframe tbody tr th {\n",
       "        vertical-align: top;\n",
       "    }\n",
       "\n",
       "    .dataframe thead th {\n",
       "        text-align: right;\n",
       "    }\n",
       "</style>\n",
       "<table border=\"1\" class=\"dataframe\">\n",
       "  <thead>\n",
       "    <tr style=\"text-align: right;\">\n",
       "      <th></th>\n",
       "      <th>Actual</th>\n",
       "      <th>Linear Regression Predictions</th>\n",
       "      <th>KNN Regression Predictions</th>\n",
       "    </tr>\n",
       "  </thead>\n",
       "  <tbody>\n",
       "    <tr>\n",
       "      <th>10176</th>\n",
       "      <td>4733</td>\n",
       "      <td>5131.107679</td>\n",
       "      <td>4664.4</td>\n",
       "    </tr>\n",
       "    <tr>\n",
       "      <th>16083</th>\n",
       "      <td>6424</td>\n",
       "      <td>7294.764679</td>\n",
       "      <td>6278.2</td>\n",
       "    </tr>\n",
       "    <tr>\n",
       "      <th>13420</th>\n",
       "      <td>5510</td>\n",
       "      <td>6025.770217</td>\n",
       "      <td>5180.8</td>\n",
       "    </tr>\n",
       "    <tr>\n",
       "      <th>20407</th>\n",
       "      <td>8770</td>\n",
       "      <td>9927.067650</td>\n",
       "      <td>12080.0</td>\n",
       "    </tr>\n",
       "    <tr>\n",
       "      <th>8909</th>\n",
       "      <td>4493</td>\n",
       "      <td>4732.652453</td>\n",
       "      <td>6015.2</td>\n",
       "    </tr>\n",
       "    <tr>\n",
       "      <th>...</th>\n",
       "      <td>...</td>\n",
       "      <td>...</td>\n",
       "      <td>...</td>\n",
       "    </tr>\n",
       "    <tr>\n",
       "      <th>52283</th>\n",
       "      <td>2494</td>\n",
       "      <td>3348.611770</td>\n",
       "      <td>2445.2</td>\n",
       "    </tr>\n",
       "    <tr>\n",
       "      <th>10789</th>\n",
       "      <td>4861</td>\n",
       "      <td>4480.310760</td>\n",
       "      <td>4301.8</td>\n",
       "    </tr>\n",
       "    <tr>\n",
       "      <th>1190</th>\n",
       "      <td>2932</td>\n",
       "      <td>3870.804522</td>\n",
       "      <td>3569.6</td>\n",
       "    </tr>\n",
       "    <tr>\n",
       "      <th>3583</th>\n",
       "      <td>3422</td>\n",
       "      <td>4198.061830</td>\n",
       "      <td>3228.2</td>\n",
       "    </tr>\n",
       "    <tr>\n",
       "      <th>40845</th>\n",
       "      <td>1173</td>\n",
       "      <td>1404.257826</td>\n",
       "      <td>1533.4</td>\n",
       "    </tr>\n",
       "  </tbody>\n",
       "</table>\n",
       "<p>13485 rows × 3 columns</p>\n",
       "</div>"
      ],
      "text/plain": [
       "       Actual  Linear Regression Predictions  KNN Regression Predictions\n",
       "10176    4733                    5131.107679                      4664.4\n",
       "16083    6424                    7294.764679                      6278.2\n",
       "13420    5510                    6025.770217                      5180.8\n",
       "20407    8770                    9927.067650                     12080.0\n",
       "8909     4493                    4732.652453                      6015.2\n",
       "...       ...                            ...                         ...\n",
       "52283    2494                    3348.611770                      2445.2\n",
       "10789    4861                    4480.310760                      4301.8\n",
       "1190     2932                    3870.804522                      3569.6\n",
       "3583     3422                    4198.061830                      3228.2\n",
       "40845    1173                    1404.257826                      1533.4\n",
       "\n",
       "[13485 rows x 3 columns]"
      ]
     },
     "execution_count": 36,
     "metadata": {},
     "output_type": "execute_result"
    }
   ],
   "source": [
    "output_df['KNN Regression Predictions'] = y_test_pred\n",
    "\n",
    "output_df"
   ]
  },
  {
   "cell_type": "code",
   "execution_count": 37,
   "id": "5afb3455",
   "metadata": {},
   "outputs": [
    {
     "data": {
      "text/plain": [
       "<matplotlib.legend.Legend at 0x19e53fa3310>"
      ]
     },
     "execution_count": 37,
     "metadata": {},
     "output_type": "execute_result"
    },
    {
     "data": {
      "image/png": "[encoded data removed]",
      "text/plain": [
       "<Figure size 800x300 with 1 Axes>"
      ]
     },
     "metadata": {},
     "output_type": "display_data"
    }
   ],
   "source": [
    "fig, ax = plt.subplots(figsize=(8,3))\n",
    "\n",
    "sns.histplot(output_df['Actual'], color='blue', alpha=0.5, label=\"actual\")\n",
    "sns.histplot(output_df['KNN Regression Predictions'], color='red', alpha=0.5, label=\"prediction\")\n",
    "\n",
    "plt.legend()"
   ]
  },
  {
   "cell_type": "markdown",
   "id": "7f33881e",
   "metadata": {},
   "source": [
    "### Decision Tree Regression ###"
   ]
  },
  {
   "cell_type": "code",
   "execution_count": 38,
   "id": "d71de9fa",
   "metadata": {},
   "outputs": [
    {
     "name": "stdout",
     "output_type": "stream",
     "text": [
      "Model's Error: 351.99555061179086\n",
      "\n",
      "CPU times: total: 250 ms\n",
      "Wall time: 3.33 s\n"
     ]
    }
   ],
   "source": [
    "%%time\n",
    "\n",
    "from sklearn.tree import DecisionTreeRegressor\n",
    "from sklearn import metrics\n",
    "\n",
    "regressor = DecisionTreeRegressor()\n",
    "regressor.fit(X_train_transformed, y_train)\n",
    "\n",
    "y_test_pred = regressor.predict(X_test_transformed)\n",
    "\n",
    "print(\"Model's Error:\", metrics.mean_absolute_error(y_test, y_test_pred))\n",
    "print()"
   ]
  },
  {
   "cell_type": "code",
   "execution_count": 39,
   "id": "7b298d8d",
   "metadata": {},
   "outputs": [
    {
     "data": {
      "text/html": [
       "<div>\n",
       "<style scoped>\n",
       "    .dataframe tbody tr th:only-of-type {\n",
       "        vertical-align: middle;\n",
       "    }\n",
       "\n",
       "    .dataframe tbody tr th {\n",
       "        vertical-align: top;\n",
       "    }\n",
       "\n",
       "    .dataframe thead th {\n",
       "        text-align: right;\n",
       "    }\n",
       "</style>\n",
       "<table border=\"1\" class=\"dataframe\">\n",
       "  <thead>\n",
       "    <tr style=\"text-align: right;\">\n",
       "      <th></th>\n",
       "      <th>Actual</th>\n",
       "      <th>Linear Regression Predictions</th>\n",
       "      <th>KNN Regression Predictions</th>\n",
       "      <th>DT Regression Predictions</th>\n",
       "    </tr>\n",
       "  </thead>\n",
       "  <tbody>\n",
       "    <tr>\n",
       "      <th>10176</th>\n",
       "      <td>4733</td>\n",
       "      <td>5131.107679</td>\n",
       "      <td>4664.4</td>\n",
       "      <td>4662.0</td>\n",
       "    </tr>\n",
       "    <tr>\n",
       "      <th>16083</th>\n",
       "      <td>6424</td>\n",
       "      <td>7294.764679</td>\n",
       "      <td>6278.2</td>\n",
       "      <td>7036.0</td>\n",
       "    </tr>\n",
       "    <tr>\n",
       "      <th>13420</th>\n",
       "      <td>5510</td>\n",
       "      <td>6025.770217</td>\n",
       "      <td>5180.8</td>\n",
       "      <td>5098.0</td>\n",
       "    </tr>\n",
       "    <tr>\n",
       "      <th>20407</th>\n",
       "      <td>8770</td>\n",
       "      <td>9927.067650</td>\n",
       "      <td>12080.0</td>\n",
       "      <td>12182.0</td>\n",
       "    </tr>\n",
       "    <tr>\n",
       "      <th>8909</th>\n",
       "      <td>4493</td>\n",
       "      <td>4732.652453</td>\n",
       "      <td>6015.2</td>\n",
       "      <td>4134.0</td>\n",
       "    </tr>\n",
       "    <tr>\n",
       "      <th>...</th>\n",
       "      <td>...</td>\n",
       "      <td>...</td>\n",
       "      <td>...</td>\n",
       "      <td>...</td>\n",
       "    </tr>\n",
       "    <tr>\n",
       "      <th>52283</th>\n",
       "      <td>2494</td>\n",
       "      <td>3348.611770</td>\n",
       "      <td>2445.2</td>\n",
       "      <td>2469.0</td>\n",
       "    </tr>\n",
       "    <tr>\n",
       "      <th>10789</th>\n",
       "      <td>4861</td>\n",
       "      <td>4480.310760</td>\n",
       "      <td>4301.8</td>\n",
       "      <td>4166.0</td>\n",
       "    </tr>\n",
       "    <tr>\n",
       "      <th>1190</th>\n",
       "      <td>2932</td>\n",
       "      <td>3870.804522</td>\n",
       "      <td>3569.6</td>\n",
       "      <td>2721.0</td>\n",
       "    </tr>\n",
       "    <tr>\n",
       "      <th>3583</th>\n",
       "      <td>3422</td>\n",
       "      <td>4198.061830</td>\n",
       "      <td>3228.2</td>\n",
       "      <td>2852.0</td>\n",
       "    </tr>\n",
       "    <tr>\n",
       "      <th>40845</th>\n",
       "      <td>1173</td>\n",
       "      <td>1404.257826</td>\n",
       "      <td>1533.4</td>\n",
       "      <td>1251.0</td>\n",
       "    </tr>\n",
       "  </tbody>\n",
       "</table>\n",
       "<p>13485 rows × 4 columns</p>\n",
       "</div>"
      ],
      "text/plain": [
       "       Actual  Linear Regression Predictions  KNN Regression Predictions  \\\n",
       "10176    4733                    5131.107679                      4664.4   \n",
       "16083    6424                    7294.764679                      6278.2   \n",
       "13420    5510                    6025.770217                      5180.8   \n",
       "20407    8770                    9927.067650                     12080.0   \n",
       "8909     4493                    4732.652453                      6015.2   \n",
       "...       ...                            ...                         ...   \n",
       "52283    2494                    3348.611770                      2445.2   \n",
       "10789    4861                    4480.310760                      4301.8   \n",
       "1190     2932                    3870.804522                      3569.6   \n",
       "3583     3422                    4198.061830                      3228.2   \n",
       "40845    1173                    1404.257826                      1533.4   \n",
       "\n",
       "       DT Regression Predictions  \n",
       "10176                     4662.0  \n",
       "16083                     7036.0  \n",
       "13420                     5098.0  \n",
       "20407                    12182.0  \n",
       "8909                      4134.0  \n",
       "...                          ...  \n",
       "52283                     2469.0  \n",
       "10789                     4166.0  \n",
       "1190                      2721.0  \n",
       "3583                      2852.0  \n",
       "40845                     1251.0  \n",
       "\n",
       "[13485 rows x 4 columns]"
      ]
     },
     "execution_count": 39,
     "metadata": {},
     "output_type": "execute_result"
    }
   ],
   "source": [
    "output_df['DT Regression Predictions'] = y_test_pred\n",
    "\n",
    "output_df"
   ]
  },
  {
   "cell_type": "code",
   "execution_count": 40,
   "id": "c2b17611",
   "metadata": {},
   "outputs": [
    {
     "data": {
      "text/plain": [
       "<matplotlib.legend.Legend at 0x19e551d1a10>"
      ]
     },
     "execution_count": 40,
     "metadata": {},
     "output_type": "execute_result"
    },
    {
     "data": {
      "image/png": "[encoded data removed]",
      "text/plain": [
       "<Figure size 800x300 with 1 Axes>"
      ]
     },
     "metadata": {},
     "output_type": "display_data"
    }
   ],
   "source": [
    "fig, ax = plt.subplots(figsize=(8,3))\n",
    "\n",
    "sns.histplot(output_df['Actual'], color='blue', alpha=0.5, label=\"actual\")\n",
    "sns.histplot(output_df['DT Regression Predictions'], color='red', alpha=0.5, label=\"prediction\")\n",
    "\n",
    "plt.legend()"
   ]
  },
  {
   "cell_type": "markdown",
   "id": "096b7850",
   "metadata": {},
   "source": [
    "### Random Forest Regression ###"
   ]
  },
  {
   "cell_type": "code",
   "execution_count": 41,
   "id": "b7ce6bfe",
   "metadata": {},
   "outputs": [
    {
     "name": "stdout",
     "output_type": "stream",
     "text": [
      "Model's Error: 268.81839457063353\n",
      "\n",
      "CPU times: total: 16.3 s\n",
      "Wall time: 40.7 s\n"
     ]
    }
   ],
   "source": [
    "%%time\n",
    "\n",
    "from sklearn.ensemble import RandomForestRegressor\n",
    "from sklearn import metrics\n",
    "\n",
    "regressor = RandomForestRegressor()\n",
    "regressor.fit(X_train_transformed, y_train)\n",
    "\n",
    "y_test_pred = regressor.predict(X_test_transformed)\n",
    "\n",
    "print(\"Model's Error:\", metrics.mean_absolute_error(y_test, y_test_pred))\n",
    "print()"
   ]
  },
  {
   "cell_type": "code",
   "execution_count": 42,
   "id": "e80c810b",
   "metadata": {},
   "outputs": [
    {
     "data": {
      "text/html": [
       "<div>\n",
       "<style scoped>\n",
       "    .dataframe tbody tr th:only-of-type {\n",
       "        vertical-align: middle;\n",
       "    }\n",
       "\n",
       "    .dataframe tbody tr th {\n",
       "        vertical-align: top;\n",
       "    }\n",
       "\n",
       "    .dataframe thead th {\n",
       "        text-align: right;\n",
       "    }\n",
       "</style>\n",
       "<table border=\"1\" class=\"dataframe\">\n",
       "  <thead>\n",
       "    <tr style=\"text-align: right;\">\n",
       "      <th></th>\n",
       "      <th>Actual</th>\n",
       "      <th>Linear Regression Predictions</th>\n",
       "      <th>KNN Regression Predictions</th>\n",
       "      <th>DT Regression Predictions</th>\n",
       "      <th>RF Regression Predictions</th>\n",
       "    </tr>\n",
       "  </thead>\n",
       "  <tbody>\n",
       "    <tr>\n",
       "      <th>10176</th>\n",
       "      <td>4733</td>\n",
       "      <td>5131.107679</td>\n",
       "      <td>4664.4</td>\n",
       "      <td>4662.0</td>\n",
       "      <td>4766.77</td>\n",
       "    </tr>\n",
       "    <tr>\n",
       "      <th>16083</th>\n",
       "      <td>6424</td>\n",
       "      <td>7294.764679</td>\n",
       "      <td>6278.2</td>\n",
       "      <td>7036.0</td>\n",
       "      <td>7114.05</td>\n",
       "    </tr>\n",
       "    <tr>\n",
       "      <th>13420</th>\n",
       "      <td>5510</td>\n",
       "      <td>6025.770217</td>\n",
       "      <td>5180.8</td>\n",
       "      <td>5098.0</td>\n",
       "      <td>5290.92</td>\n",
       "    </tr>\n",
       "    <tr>\n",
       "      <th>20407</th>\n",
       "      <td>8770</td>\n",
       "      <td>9927.067650</td>\n",
       "      <td>12080.0</td>\n",
       "      <td>12182.0</td>\n",
       "      <td>11197.89</td>\n",
       "    </tr>\n",
       "    <tr>\n",
       "      <th>8909</th>\n",
       "      <td>4493</td>\n",
       "      <td>4732.652453</td>\n",
       "      <td>6015.2</td>\n",
       "      <td>4134.0</td>\n",
       "      <td>4697.92</td>\n",
       "    </tr>\n",
       "    <tr>\n",
       "      <th>...</th>\n",
       "      <td>...</td>\n",
       "      <td>...</td>\n",
       "      <td>...</td>\n",
       "      <td>...</td>\n",
       "      <td>...</td>\n",
       "    </tr>\n",
       "    <tr>\n",
       "      <th>52283</th>\n",
       "      <td>2494</td>\n",
       "      <td>3348.611770</td>\n",
       "      <td>2445.2</td>\n",
       "      <td>2469.0</td>\n",
       "      <td>2393.02</td>\n",
       "    </tr>\n",
       "    <tr>\n",
       "      <th>10789</th>\n",
       "      <td>4861</td>\n",
       "      <td>4480.310760</td>\n",
       "      <td>4301.8</td>\n",
       "      <td>4166.0</td>\n",
       "      <td>4450.65</td>\n",
       "    </tr>\n",
       "    <tr>\n",
       "      <th>1190</th>\n",
       "      <td>2932</td>\n",
       "      <td>3870.804522</td>\n",
       "      <td>3569.6</td>\n",
       "      <td>2721.0</td>\n",
       "      <td>3089.53</td>\n",
       "    </tr>\n",
       "    <tr>\n",
       "      <th>3583</th>\n",
       "      <td>3422</td>\n",
       "      <td>4198.061830</td>\n",
       "      <td>3228.2</td>\n",
       "      <td>2852.0</td>\n",
       "      <td>2913.14</td>\n",
       "    </tr>\n",
       "    <tr>\n",
       "      <th>40845</th>\n",
       "      <td>1173</td>\n",
       "      <td>1404.257826</td>\n",
       "      <td>1533.4</td>\n",
       "      <td>1251.0</td>\n",
       "      <td>1281.83</td>\n",
       "    </tr>\n",
       "  </tbody>\n",
       "</table>\n",
       "<p>13485 rows × 5 columns</p>\n",
       "</div>"
      ],
      "text/plain": [
       "       Actual  Linear Regression Predictions  KNN Regression Predictions  \\\n",
       "10176    4733                    5131.107679                      4664.4   \n",
       "16083    6424                    7294.764679                      6278.2   \n",
       "13420    5510                    6025.770217                      5180.8   \n",
       "20407    8770                    9927.067650                     12080.0   \n",
       "8909     4493                    4732.652453                      6015.2   \n",
       "...       ...                            ...                         ...   \n",
       "52283    2494                    3348.611770                      2445.2   \n",
       "10789    4861                    4480.310760                      4301.8   \n",
       "1190     2932                    3870.804522                      3569.6   \n",
       "3583     3422                    4198.061830                      3228.2   \n",
       "40845    1173                    1404.257826                      1533.4   \n",
       "\n",
       "       DT Regression Predictions  RF Regression Predictions  \n",
       "10176                     4662.0                    4766.77  \n",
       "16083                     7036.0                    7114.05  \n",
       "13420                     5098.0                    5290.92  \n",
       "20407                    12182.0                   11197.89  \n",
       "8909                      4134.0                    4697.92  \n",
       "...                          ...                        ...  \n",
       "52283                     2469.0                    2393.02  \n",
       "10789                     4166.0                    4450.65  \n",
       "1190                      2721.0                    3089.53  \n",
       "3583                      2852.0                    2913.14  \n",
       "40845                     1251.0                    1281.83  \n",
       "\n",
       "[13485 rows x 5 columns]"
      ]
     },
     "execution_count": 42,
     "metadata": {},
     "output_type": "execute_result"
    }
   ],
   "source": [
    "output_df['RF Regression Predictions'] = y_test_pred\n",
    "\n",
    "output_df"
   ]
  },
  {
   "cell_type": "code",
   "execution_count": 43,
   "id": "e3dd49b3",
   "metadata": {},
   "outputs": [
    {
     "data": {
      "text/plain": [
       "<matplotlib.legend.Legend at 0x19e5166ef10>"
      ]
     },
     "execution_count": 43,
     "metadata": {},
     "output_type": "execute_result"
    },
    {
     "data": {
      "image/png": "[encoded data removed]",
      "text/plain": [
       "<Figure size 800x300 with 1 Axes>"
      ]
     },
     "metadata": {},
     "output_type": "display_data"
    }
   ],
   "source": [
    "fig, ax = plt.subplots(figsize=(8,3))\n",
    "\n",
    "sns.histplot(output_df['Actual'], color='blue', alpha=0.5, label=\"actual\")\n",
    "sns.histplot(output_df['RF Regression Predictions'], color='red', alpha=0.5, label=\"prediction\")\n",
    "\n",
    "plt.legend()"
   ]
  },
  {
   "cell_type": "markdown",
   "id": "1fcd12a2",
   "metadata": {},
   "source": [
    "# Comparing all the Models"
   ]
  },
  {
   "cell_type": "code",
   "execution_count": 44,
   "id": "f47327bb",
   "metadata": {},
   "outputs": [
    {
     "data": {
      "text/html": [
       "<div>\n",
       "<style scoped>\n",
       "    .dataframe tbody tr th:only-of-type {\n",
       "        vertical-align: middle;\n",
       "    }\n",
       "\n",
       "    .dataframe tbody tr th {\n",
       "        vertical-align: top;\n",
       "    }\n",
       "\n",
       "    .dataframe thead th {\n",
       "        text-align: right;\n",
       "    }\n",
       "</style>\n",
       "<table border=\"1\" class=\"dataframe\">\n",
       "  <thead>\n",
       "    <tr style=\"text-align: right;\">\n",
       "      <th></th>\n",
       "      <th>Model</th>\n",
       "      <th>Prediction</th>\n",
       "    </tr>\n",
       "  </thead>\n",
       "  <tbody>\n",
       "    <tr>\n",
       "      <th>0</th>\n",
       "      <td>Actual</td>\n",
       "      <td>4733.0</td>\n",
       "    </tr>\n",
       "    <tr>\n",
       "      <th>1</th>\n",
       "      <td>Actual</td>\n",
       "      <td>6424.0</td>\n",
       "    </tr>\n",
       "    <tr>\n",
       "      <th>2</th>\n",
       "      <td>Actual</td>\n",
       "      <td>5510.0</td>\n",
       "    </tr>\n",
       "    <tr>\n",
       "      <th>3</th>\n",
       "      <td>Actual</td>\n",
       "      <td>8770.0</td>\n",
       "    </tr>\n",
       "    <tr>\n",
       "      <th>4</th>\n",
       "      <td>Actual</td>\n",
       "      <td>4493.0</td>\n",
       "    </tr>\n",
       "  </tbody>\n",
       "</table>\n",
       "</div>"
      ],
      "text/plain": [
       "    Model  Prediction\n",
       "0  Actual      4733.0\n",
       "1  Actual      6424.0\n",
       "2  Actual      5510.0\n",
       "3  Actual      8770.0\n",
       "4  Actual      4493.0"
      ]
     },
     "execution_count": 44,
     "metadata": {},
     "output_type": "execute_result"
    }
   ],
   "source": [
    "df_melted = pd.melt(output_df,  var_name='Model', value_name='Prediction')\n",
    "\n",
    "df_melted.head()"
   ]
  },
  {
   "cell_type": "code",
   "execution_count": 45,
   "id": "95175557",
   "metadata": {},
   "outputs": [
    {
     "data": {
      "image/png": "[encoded data removed]",
      "text/plain": [
       "<Figure size 800x300 with 1 Axes>"
      ]
     },
     "metadata": {},
     "output_type": "display_data"
    }
   ],
   "source": [
    "fig, ax = plt.subplots(figsize=(8,3))\n",
    "\n",
    "sns.boxplot(x='Prediction', y='Model', data=df_melted)\n",
    "plt.title('Comparison of Actual vs. Predicted Values')\n",
    "\n",
    "plt.show()"
   ]
  },
  {
   "cell_type": "code",
   "execution_count": null,
   "id": "d4793799",
   "metadata": {},
   "outputs": [],
   "source": []
  }
 ],
 "metadata": {
  "kernelspec": {
   "display_name": "Python 3 (ipykernel)",
   "language": "python",
   "name": "python3"
  },
  "language_info": {
   "codemirror_mode": {
    "name": "ipython",
    "version": 3
   },
   "file_extension": ".py",
   "mimetype": "text/x-python",
   "name": "python",
   "nbconvert_exporter": "python",
   "pygments_lexer": "ipython3",
   "version": "3.11.5"
  }
 },
 "nbformat": 4,
 "nbformat_minor": 5
}
